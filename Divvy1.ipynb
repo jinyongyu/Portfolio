{
 "cells": [
  {
   "cell_type": "code",
   "execution_count": 42,
   "metadata": {
    "collapsed": true
   },
   "outputs": [],
   "source": [
    "# import libraries\n",
    "import pandas as pd\n",
    "\n",
    "# Read data\n",
    "df1 = pd.read_csv('divvy/202301-divvy-tripdata.csv')\n",
    "df2 = pd.read_csv('divvy/202202-divvy-tripdata.csv')\n",
    "df3 = pd.read_csv('divvy/202203-divvy-tripdata.csv')\n",
    "df4 = pd.read_csv('divvy/202204-divvy-tripdata.csv')\n",
    "df5 = pd.read_csv('divvy/202205-divvy-tripdata.csv')\n",
    "df6 = pd.read_csv('divvy/202206-divvy-tripdata.csv')\n",
    "df7 = pd.read_csv('divvy/202207-divvy-tripdata.csv')\n",
    "df8 = pd.read_csv('divvy/202208-divvy-tripdata.csv')\n",
    "df9 = pd.read_csv('divvy/202209-divvy-tripdata.csv')\n",
    "df10 = pd.read_csv('divvy/202210-divvy-tripdata.csv')\n",
    "df11 = pd.read_csv('divvy/202211-divvy-tripdata.csv')\n",
    "df12 = pd.read_csv('divvy/202212-divvy-tripdata.csv')\n",
    "\n",
    "#combine all dataframes\n",
    "df_combined = pd.concat([df1, df2, df3, df4, df5, df6, df7, df8, df9, df10, df11, df12], ignore_index=True)"
   ]
  },
  {
   "cell_type": "code",
   "execution_count": 39,
   "outputs": [],
   "source": [
    "# drop duplicates and any nulls\n",
    "df_combined = df_combined.dropna()\n",
    "df_combined = df_combined.drop_duplicates()"
   ],
   "metadata": {
    "collapsed": false
   }
  },
  {
   "cell_type": "code",
   "execution_count": 40,
   "outputs": [],
   "source": [
    "#ensure started_ad and ended_at are in correct format to calculate trip duration\n",
    "df_combined['started_at'] = pd.to_datetime(df_combined['started_at'])\n",
    "df_combined['ended_at'] = pd.to_datetime(df_combined['ended_at'])\n",
    "\n",
    "# calculate the trip duration in seconds as time_diff\n",
    "df_combined['time_diff'] = (df_combined['ended_at'] - df_combined['started_at']).dt.total_seconds()"
   ],
   "metadata": {
    "collapsed": false
   }
  },
  {
   "cell_type": "code",
   "execution_count": 41,
   "outputs": [
    {
     "data": {
      "text/plain": "                  ride_id  rideable_type          started_at  \\\n0        F96D5A74A3E41399  electric_bike 2023-01-21 20:05:42   \n1        13CB7EB698CEDB88   classic_bike 2023-01-10 15:37:36   \n2        BD88A2E670661CE5  electric_bike 2023-01-02 07:51:57   \n3        C90792D034FED968   classic_bike 2023-01-22 10:52:58   \n4        3397017529188E8A   classic_bike 2023-01-12 13:58:01   \n...                   ...            ...                 ...   \n5754243  43ABEE85B6E15DCA   classic_bike 2022-12-05 06:51:04   \n5754244  F041C89A3D1F0270  electric_bike 2022-12-14 17:06:28   \n5754245  A2BECB88430BE156   classic_bike 2022-12-08 16:27:47   \n5754246  37B392960E566F58   classic_bike 2022-12-28 09:37:38   \n5754247  2DD1587210BA45AE   classic_bike 2022-12-09 00:27:25   \n\n                   ended_at             start_station_name start_station_id  \\\n0       2023-01-21 20:16:33    Lincoln Ave & Fullerton Ave     TA1309000058   \n1       2023-01-10 15:46:05          Kimbark Ave & 53rd St     TA1309000037   \n2       2023-01-02 08:05:11         Western Ave & Lunt Ave           RP-005   \n3       2023-01-22 11:01:44          Kimbark Ave & 53rd St     TA1309000037   \n4       2023-01-12 14:13:20          Kimbark Ave & 53rd St     TA1309000037   \n...                     ...                            ...              ...   \n5754243 2022-12-05 06:54:48  Sangamon St & Washington Blvd            13409   \n5754244 2022-12-14 17:19:27        Bernard St & Elston Ave            18016   \n5754245 2022-12-08 16:32:20      Wacker Dr & Washington St     KA1503000072   \n5754246 2022-12-28 09:41:34  Sangamon St & Washington Blvd            13409   \n5754247 2022-12-09 00:35:28   Southport Ave & Waveland Ave            13235   \n\n                       end_station_name end_station_id  start_lat  start_lng  \\\n0             Hampden Ct & Diversey Ave       202480.0  41.924074 -87.646278   \n1               Greenwood Ave & 47th St   TA1308000002  41.799568 -87.594747   \n2        Valli Produce - Evanston Plaza            599  42.008571 -87.690483   \n3               Greenwood Ave & 47th St   TA1308000002  41.799568 -87.594747   \n4               Greenwood Ave & 47th St   TA1308000002  41.799568 -87.594747   \n...                                 ...            ...        ...        ...   \n5754243        Peoria St & Jackson Blvd          13158  41.883165 -87.651100   \n5754244          Seeley Ave & Roscoe St          13144  41.949980 -87.714019   \n5754245           Green St & Madison St   TA1307000120  41.883143 -87.637242   \n5754246        Peoria St & Jackson Blvd          13158  41.883165 -87.651100   \n5754247          Seeley Ave & Roscoe St          13144  41.948150 -87.663940   \n\n           end_lat    end_lng member_casual  time_diff  dayofweek  \n0        41.930000 -87.640000        member      651.0          7  \n1        41.809835 -87.599383        member      509.0          3  \n2        42.039742 -87.699413        casual      794.0          2  \n3        41.809835 -87.599383        member      526.0          1  \n4        41.809835 -87.599383        member      919.0          5  \n...            ...        ...           ...        ...        ...  \n5754243  41.877642 -87.649618        member      224.0          2  \n5754244  41.943403 -87.679618        member      779.0          4  \n5754245  41.881859 -87.649264        member      273.0          5  \n5754246  41.877642 -87.649618        member      236.0          4  \n5754247  41.943403 -87.679618        casual      483.0          6  \n\n[4437516 rows x 15 columns]",
      "text/html": "<div>\n<style scoped>\n    .dataframe tbody tr th:only-of-type {\n        vertical-align: middle;\n    }\n\n    .dataframe tbody tr th {\n        vertical-align: top;\n    }\n\n    .dataframe thead th {\n        text-align: right;\n    }\n</style>\n<table border=\"1\" class=\"dataframe\">\n  <thead>\n    <tr style=\"text-align: right;\">\n      <th></th>\n      <th>ride_id</th>\n      <th>rideable_type</th>\n      <th>started_at</th>\n      <th>ended_at</th>\n      <th>start_station_name</th>\n      <th>start_station_id</th>\n      <th>end_station_name</th>\n      <th>end_station_id</th>\n      <th>start_lat</th>\n      <th>start_lng</th>\n      <th>end_lat</th>\n      <th>end_lng</th>\n      <th>member_casual</th>\n      <th>time_diff</th>\n      <th>dayofweek</th>\n    </tr>\n  </thead>\n  <tbody>\n    <tr>\n      <th>0</th>\n      <td>F96D5A74A3E41399</td>\n      <td>electric_bike</td>\n      <td>2023-01-21 20:05:42</td>\n      <td>2023-01-21 20:16:33</td>\n      <td>Lincoln Ave &amp; Fullerton Ave</td>\n      <td>TA1309000058</td>\n      <td>Hampden Ct &amp; Diversey Ave</td>\n      <td>202480.0</td>\n      <td>41.924074</td>\n      <td>-87.646278</td>\n      <td>41.930000</td>\n      <td>-87.640000</td>\n      <td>member</td>\n      <td>651.0</td>\n      <td>7</td>\n    </tr>\n    <tr>\n      <th>1</th>\n      <td>13CB7EB698CEDB88</td>\n      <td>classic_bike</td>\n      <td>2023-01-10 15:37:36</td>\n      <td>2023-01-10 15:46:05</td>\n      <td>Kimbark Ave &amp; 53rd St</td>\n      <td>TA1309000037</td>\n      <td>Greenwood Ave &amp; 47th St</td>\n      <td>TA1308000002</td>\n      <td>41.799568</td>\n      <td>-87.594747</td>\n      <td>41.809835</td>\n      <td>-87.599383</td>\n      <td>member</td>\n      <td>509.0</td>\n      <td>3</td>\n    </tr>\n    <tr>\n      <th>2</th>\n      <td>BD88A2E670661CE5</td>\n      <td>electric_bike</td>\n      <td>2023-01-02 07:51:57</td>\n      <td>2023-01-02 08:05:11</td>\n      <td>Western Ave &amp; Lunt Ave</td>\n      <td>RP-005</td>\n      <td>Valli Produce - Evanston Plaza</td>\n      <td>599</td>\n      <td>42.008571</td>\n      <td>-87.690483</td>\n      <td>42.039742</td>\n      <td>-87.699413</td>\n      <td>casual</td>\n      <td>794.0</td>\n      <td>2</td>\n    </tr>\n    <tr>\n      <th>3</th>\n      <td>C90792D034FED968</td>\n      <td>classic_bike</td>\n      <td>2023-01-22 10:52:58</td>\n      <td>2023-01-22 11:01:44</td>\n      <td>Kimbark Ave &amp; 53rd St</td>\n      <td>TA1309000037</td>\n      <td>Greenwood Ave &amp; 47th St</td>\n      <td>TA1308000002</td>\n      <td>41.799568</td>\n      <td>-87.594747</td>\n      <td>41.809835</td>\n      <td>-87.599383</td>\n      <td>member</td>\n      <td>526.0</td>\n      <td>1</td>\n    </tr>\n    <tr>\n      <th>4</th>\n      <td>3397017529188E8A</td>\n      <td>classic_bike</td>\n      <td>2023-01-12 13:58:01</td>\n      <td>2023-01-12 14:13:20</td>\n      <td>Kimbark Ave &amp; 53rd St</td>\n      <td>TA1309000037</td>\n      <td>Greenwood Ave &amp; 47th St</td>\n      <td>TA1308000002</td>\n      <td>41.799568</td>\n      <td>-87.594747</td>\n      <td>41.809835</td>\n      <td>-87.599383</td>\n      <td>member</td>\n      <td>919.0</td>\n      <td>5</td>\n    </tr>\n    <tr>\n      <th>...</th>\n      <td>...</td>\n      <td>...</td>\n      <td>...</td>\n      <td>...</td>\n      <td>...</td>\n      <td>...</td>\n      <td>...</td>\n      <td>...</td>\n      <td>...</td>\n      <td>...</td>\n      <td>...</td>\n      <td>...</td>\n      <td>...</td>\n      <td>...</td>\n      <td>...</td>\n    </tr>\n    <tr>\n      <th>5754243</th>\n      <td>43ABEE85B6E15DCA</td>\n      <td>classic_bike</td>\n      <td>2022-12-05 06:51:04</td>\n      <td>2022-12-05 06:54:48</td>\n      <td>Sangamon St &amp; Washington Blvd</td>\n      <td>13409</td>\n      <td>Peoria St &amp; Jackson Blvd</td>\n      <td>13158</td>\n      <td>41.883165</td>\n      <td>-87.651100</td>\n      <td>41.877642</td>\n      <td>-87.649618</td>\n      <td>member</td>\n      <td>224.0</td>\n      <td>2</td>\n    </tr>\n    <tr>\n      <th>5754244</th>\n      <td>F041C89A3D1F0270</td>\n      <td>electric_bike</td>\n      <td>2022-12-14 17:06:28</td>\n      <td>2022-12-14 17:19:27</td>\n      <td>Bernard St &amp; Elston Ave</td>\n      <td>18016</td>\n      <td>Seeley Ave &amp; Roscoe St</td>\n      <td>13144</td>\n      <td>41.949980</td>\n      <td>-87.714019</td>\n      <td>41.943403</td>\n      <td>-87.679618</td>\n      <td>member</td>\n      <td>779.0</td>\n      <td>4</td>\n    </tr>\n    <tr>\n      <th>5754245</th>\n      <td>A2BECB88430BE156</td>\n      <td>classic_bike</td>\n      <td>2022-12-08 16:27:47</td>\n      <td>2022-12-08 16:32:20</td>\n      <td>Wacker Dr &amp; Washington St</td>\n      <td>KA1503000072</td>\n      <td>Green St &amp; Madison St</td>\n      <td>TA1307000120</td>\n      <td>41.883143</td>\n      <td>-87.637242</td>\n      <td>41.881859</td>\n      <td>-87.649264</td>\n      <td>member</td>\n      <td>273.0</td>\n      <td>5</td>\n    </tr>\n    <tr>\n      <th>5754246</th>\n      <td>37B392960E566F58</td>\n      <td>classic_bike</td>\n      <td>2022-12-28 09:37:38</td>\n      <td>2022-12-28 09:41:34</td>\n      <td>Sangamon St &amp; Washington Blvd</td>\n      <td>13409</td>\n      <td>Peoria St &amp; Jackson Blvd</td>\n      <td>13158</td>\n      <td>41.883165</td>\n      <td>-87.651100</td>\n      <td>41.877642</td>\n      <td>-87.649618</td>\n      <td>member</td>\n      <td>236.0</td>\n      <td>4</td>\n    </tr>\n    <tr>\n      <th>5754247</th>\n      <td>2DD1587210BA45AE</td>\n      <td>classic_bike</td>\n      <td>2022-12-09 00:27:25</td>\n      <td>2022-12-09 00:35:28</td>\n      <td>Southport Ave &amp; Waveland Ave</td>\n      <td>13235</td>\n      <td>Seeley Ave &amp; Roscoe St</td>\n      <td>13144</td>\n      <td>41.948150</td>\n      <td>-87.663940</td>\n      <td>41.943403</td>\n      <td>-87.679618</td>\n      <td>casual</td>\n      <td>483.0</td>\n      <td>6</td>\n    </tr>\n  </tbody>\n</table>\n<p>4437516 rows × 15 columns</p>\n</div>"
     },
     "execution_count": 41,
     "metadata": {},
     "output_type": "execute_result"
    }
   ],
   "source": [
    "# set dayofweek from start_at dates where Monday = 1 and Sunday = 7\n",
    "df_combined['dayofweek'] = (df_combined['started_at'].dt.weekday + 1) % 7 + 1\n",
    "df_combined"
   ],
   "metadata": {
    "collapsed": false
   }
  },
  {
   "cell_type": "code",
   "execution_count": null,
   "outputs": [],
   "source": [],
   "metadata": {
    "collapsed": false
   }
  }
 ],
 "metadata": {
  "kernelspec": {
   "display_name": "Python 3",
   "language": "python",
   "name": "python3"
  },
  "language_info": {
   "codemirror_mode": {
    "name": "ipython",
    "version": 2
   },
   "file_extension": ".py",
   "mimetype": "text/x-python",
   "name": "python",
   "nbconvert_exporter": "python",
   "pygments_lexer": "ipython2",
   "version": "2.7.6"
  }
 },
 "nbformat": 4,
 "nbformat_minor": 0
}
